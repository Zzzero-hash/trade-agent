{
 "cells": [
  {
   "cell_type": "code",
   "execution_count": null,
   "id": "285f419b",
   "metadata": {},
   "outputs": [],
   "source": [
    "from trading_rl_agent.data.robust_dataset_builder import DatasetConfig, RobustDatasetBuilder\n",
    "\n",
    "# Configure the dataset generation\n",
    "config = DatasetConfig(\n",
    "    symbols=[\"EURUSD\", \"USDJPY\", \"GBPUSD\"],  # Multiple assets\n",
    "    start_date=\"2020-01-01\",\n",
    "    end_date=\"2025-07-01\",\n",
    "    sequence_length=60,  # 60 days of history for each sample\n",
    "    prediction_horizon=5,  # Predict 5 days ahead\n",
    "    real_data_ratio=0.8,  # 80% real data, 20% synthetic\n",
    "    min_samples_per_symbol=1000,  # Ensure enough data per asset\n",
    "    technical_indicators=True,  # Generate technical indicators\n",
    "    market_regime_features=True,  # Add market regime detection\n",
    "    timeframe=\"1m\",  # 1-minute data\n",
    ")\n",
    "\n",
    "# Initialize and build the dataset\n",
    "dataset_builder = RobustDatasetBuilder(config)\n",
    "sequences, targets, dataset_info = dataset_builder.build_dataset()\n",
    "\n",
    "print(f\"Generated dataset with {len(sequences)} sequences and {sequences.shape[2]} features per timestep\")\n",
    "print(f\"Dataset metadata: {dataset_info}\")"
   ]
  }
 ],
 "metadata": {
  "kernelspec": {
   "display_name": "Python 3",
   "language": "python",
   "name": "python3"
  },
  "language_info": {
   "codemirror_mode": {
    "name": "ipython",
    "version": 3
   },
   "file_extension": ".py",
   "mimetype": "text/x-python",
   "name": "python",
   "nbconvert_exporter": "python",
   "pygments_lexer": "ipython3",
   "version": "3.11.0"
  }
 },
 "nbformat": 4,
 "nbformat_minor": 5
}
