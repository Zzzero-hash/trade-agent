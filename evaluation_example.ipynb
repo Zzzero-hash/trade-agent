{
 "cells": [
  {
   "cell_type": "markdown",
   "metadata": {},
   "source": [
    "# Evaluating a Trained RL Agent\n",
    "\n",
    "This notebook demonstrates how to run `evaluate_agent.py` on a sample dataset and view the resulting metrics."
   ]
  },
  {
   "cell_type": "code",
   "metadata": {},
   "execution_count": null,
   "source": [
    "!python evaluate_agent.py --data data/sample_data.csv \\\n    --checkpoint checkpoints/agent.pth --agent sac --output results/evaluation.json"
   ]
  },
  {
   "cell_type": "markdown",
   "metadata": {},
   "source": [
    "After running the script, the metrics file `results/evaluation.json` can be loaded and displayed:"
   ]
  },
  {
   "cell_type": "code",
   "metadata": {},
   "execution_count": null,
   "source": [
    "import json\n",
    "\n",
    "with open(\"results/evaluation.json\") as f:\n",
    "    metrics = json.load(f)\n",
    "metrics"
   ]
  }
 ],
 "metadata": {
  "kernelspec": {
   "display_name": "Python 3",
   "language": "python",
   "name": "python3"
  },
  "language_info": {
   "name": "python",
   "version": "3.10"
  }
 },
 "nbformat": 4,
 "nbformat_minor": 5
}
